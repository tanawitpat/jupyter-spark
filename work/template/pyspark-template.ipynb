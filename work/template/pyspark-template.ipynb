{
 "cells": [
  {
   "cell_type": "code",
   "execution_count": 1,
   "metadata": {},
   "outputs": [],
   "source": [
    "import pyspark\n",
    "import pyspark.sql.functions as F"
   ]
  },
  {
   "cell_type": "code",
   "execution_count": 2,
   "metadata": {},
   "outputs": [],
   "source": [
    "sc = pyspark.SparkContext.getOrCreate()\n",
    "sql = pyspark.sql.SQLContext(sc)"
   ]
  },
  {
   "cell_type": "code",
   "execution_count": 3,
   "metadata": {},
   "outputs": [],
   "source": [
    "df = (sql.read\n",
    "      .option('header', 'true')\n",
    "      .option('inferSchema', 'true')\n",
    "      .option('delimiter', ',')\n",
    "      .csv('data.csv'))"
   ]
  },
  {
   "cell_type": "code",
   "execution_count": 4,
   "metadata": {},
   "outputs": [
    {
     "name": "stdout",
     "output_type": "stream",
     "text": [
      "+-----------+-------------+------+-------+\n",
      "|customer_id|province_code|salary|n_child|\n",
      "+-----------+-------------+------+-------+\n",
      "|   CC_00001|          CMA| 52452|      0|\n",
      "|   CC_00002|          BKK| 33289|      4|\n",
      "|   CC_00003|          BKK| 62430|      3|\n",
      "|   CC_00004|          BKK| 15109|      3|\n",
      "|   CC_00005|          CMA| 33915|      2|\n",
      "|   CC_00006|          CMA| 24664|      3|\n",
      "|   CC_00007|          CMA| 89237|      0|\n",
      "|   CC_00008|          BKK| 41977|      1|\n",
      "|   CC_00009|          CMA| 61290|      2|\n",
      "|   CC_00010|          CMA| 62107|      2|\n",
      "|   CC_00011|          CMA| 43759|      4|\n",
      "|   CC_00012|          BKK| 64823|      1|\n",
      "|   CC_00013|          CMA| 83857|      1|\n",
      "|   CC_00014|          BKK| 51208|      2|\n",
      "|   CC_00015|          BKK| 76235|      0|\n",
      "|   CC_00016|          BKK| 90300|      2|\n",
      "|   CC_00017|          BKK| 74989|      4|\n",
      "|   CC_00018|          CMA| 91165|      1|\n",
      "|   CC_00019|          CMA| 41991|      4|\n",
      "|   CC_00020|          BKK| 42534|      3|\n",
      "+-----------+-------------+------+-------+\n",
      "only showing top 20 rows\n",
      "\n"
     ]
    }
   ],
   "source": [
    "df.show()"
   ]
  },
  {
   "cell_type": "code",
   "execution_count": 5,
   "metadata": {},
   "outputs": [
    {
     "name": "stdout",
     "output_type": "stream",
     "text": [
      "+-----------+-------------+------+-------+---------------+-----------------+\n",
      "|customer_id|province_code|salary|n_child|have_child_flag|salary_50000_flag|\n",
      "+-----------+-------------+------+-------+---------------+-----------------+\n",
      "|   CC_00001|          CMA| 52452|      0|              N|                Y|\n",
      "|   CC_00002|          BKK| 33289|      4|              Y|                N|\n",
      "|   CC_00003|          BKK| 62430|      3|              Y|                Y|\n",
      "|   CC_00004|          BKK| 15109|      3|              Y|                N|\n",
      "|   CC_00005|          CMA| 33915|      2|              Y|                N|\n",
      "|   CC_00006|          CMA| 24664|      3|              Y|                N|\n",
      "|   CC_00007|          CMA| 89237|      0|              N|                Y|\n",
      "|   CC_00008|          BKK| 41977|      1|              Y|                N|\n",
      "|   CC_00009|          CMA| 61290|      2|              Y|                Y|\n",
      "|   CC_00010|          CMA| 62107|      2|              Y|                Y|\n",
      "|   CC_00011|          CMA| 43759|      4|              Y|                N|\n",
      "|   CC_00012|          BKK| 64823|      1|              Y|                Y|\n",
      "|   CC_00013|          CMA| 83857|      1|              Y|                Y|\n",
      "|   CC_00014|          BKK| 51208|      2|              Y|                Y|\n",
      "|   CC_00015|          BKK| 76235|      0|              N|                Y|\n",
      "|   CC_00016|          BKK| 90300|      2|              Y|                Y|\n",
      "|   CC_00017|          BKK| 74989|      4|              Y|                Y|\n",
      "|   CC_00018|          CMA| 91165|      1|              Y|                Y|\n",
      "|   CC_00019|          CMA| 41991|      4|              Y|                N|\n",
      "|   CC_00020|          BKK| 42534|      3|              Y|                N|\n",
      "+-----------+-------------+------+-------+---------------+-----------------+\n",
      "only showing top 20 rows\n",
      "\n"
     ]
    }
   ],
   "source": [
    "df.withColumn('have_child_flag', F.expr(\"\"\"IF(n_child>0, \"Y\", \"N\")\"\"\")) \\\n",
    "    .withColumn('salary_50000_flag', F.expr(\"\"\"IF(salary>=50000, \"Y\", \"N\")\"\"\")) \\\n",
    "    .show()"
   ]
  },
  {
   "cell_type": "code",
   "execution_count": 6,
   "metadata": {},
   "outputs": [
    {
     "name": "stdout",
     "output_type": "stream",
     "text": [
      "+-------------+---+\n",
      "|province_code|  n|\n",
      "+-------------+---+\n",
      "|          BKK| 60|\n",
      "|          CMA| 51|\n",
      "+-------------+---+\n",
      "\n"
     ]
    }
   ],
   "source": [
    "df.groupBy('province_code').agg(F.count('*').alias('n')).show()"
   ]
  },
  {
   "cell_type": "code",
   "execution_count": 7,
   "metadata": {},
   "outputs": [
    {
     "name": "stdout",
     "output_type": "stream",
     "text": [
      "+-----------+-------------+------+-------+\n",
      "|customer_id|province_code|salary|n_child|\n",
      "+-----------+-------------+------+-------+\n",
      "|   CC_00001|          CMA| 52452|      0|\n",
      "|   CC_00005|          CMA| 33915|      2|\n",
      "|   CC_00006|          CMA| 24664|      3|\n",
      "|   CC_00007|          CMA| 89237|      0|\n",
      "|   CC_00009|          CMA| 61290|      2|\n",
      "|   CC_00010|          CMA| 62107|      2|\n",
      "|   CC_00011|          CMA| 43759|      4|\n",
      "|   CC_00013|          CMA| 83857|      1|\n",
      "|   CC_00018|          CMA| 91165|      1|\n",
      "|   CC_00019|          CMA| 41991|      4|\n",
      "|   CC_00022|          CMA| 88389|      1|\n",
      "|   CC_00023|          CMA| 87449|      3|\n",
      "|   CC_00024|          CMA| 54482|      1|\n",
      "|   CC_00026|          CMA| 39436|      2|\n",
      "|   CC_00027|          CMA| 90549|      3|\n",
      "|   CC_00028|          CMA| 83929|      1|\n",
      "|   CC_00035|          CMA| 42546|      4|\n",
      "|   CC_00036|          CMA| 61801|      3|\n",
      "|   CC_00042|          CMA| 73114|      3|\n",
      "|   CC_00045|          CMA| 72237|      1|\n",
      "+-----------+-------------+------+-------+\n",
      "only showing top 20 rows\n",
      "\n"
     ]
    }
   ],
   "source": [
    "df.filter(\"province_code='CMA'\").show()"
   ]
  },
  {
   "cell_type": "code",
   "execution_count": 8,
   "metadata": {},
   "outputs": [
    {
     "data": {
      "text/html": [
       "<div>\n",
       "<style scoped>\n",
       "    .dataframe tbody tr th:only-of-type {\n",
       "        vertical-align: middle;\n",
       "    }\n",
       "\n",
       "    .dataframe tbody tr th {\n",
       "        vertical-align: top;\n",
       "    }\n",
       "\n",
       "    .dataframe thead th {\n",
       "        text-align: right;\n",
       "    }\n",
       "</style>\n",
       "<table border=\"1\" class=\"dataframe\">\n",
       "  <thead>\n",
       "    <tr style=\"text-align: right;\">\n",
       "      <th></th>\n",
       "      <th>salary</th>\n",
       "      <th>n_child</th>\n",
       "    </tr>\n",
       "  </thead>\n",
       "  <tbody>\n",
       "    <tr>\n",
       "      <th>count</th>\n",
       "      <td>111.000000</td>\n",
       "      <td>111.000000</td>\n",
       "    </tr>\n",
       "    <tr>\n",
       "      <th>mean</th>\n",
       "      <td>57057.873874</td>\n",
       "      <td>2.288288</td>\n",
       "    </tr>\n",
       "    <tr>\n",
       "      <th>std</th>\n",
       "      <td>22116.304166</td>\n",
       "      <td>1.323819</td>\n",
       "    </tr>\n",
       "    <tr>\n",
       "      <th>min</th>\n",
       "      <td>15109.000000</td>\n",
       "      <td>0.000000</td>\n",
       "    </tr>\n",
       "    <tr>\n",
       "      <th>25%</th>\n",
       "      <td>39107.000000</td>\n",
       "      <td>1.000000</td>\n",
       "    </tr>\n",
       "    <tr>\n",
       "      <th>50%</th>\n",
       "      <td>57244.000000</td>\n",
       "      <td>2.000000</td>\n",
       "    </tr>\n",
       "    <tr>\n",
       "      <th>75%</th>\n",
       "      <td>74303.000000</td>\n",
       "      <td>3.000000</td>\n",
       "    </tr>\n",
       "    <tr>\n",
       "      <th>max</th>\n",
       "      <td>98416.000000</td>\n",
       "      <td>4.000000</td>\n",
       "    </tr>\n",
       "  </tbody>\n",
       "</table>\n",
       "</div>"
      ],
      "text/plain": [
       "             salary     n_child\n",
       "count    111.000000  111.000000\n",
       "mean   57057.873874    2.288288\n",
       "std    22116.304166    1.323819\n",
       "min    15109.000000    0.000000\n",
       "25%    39107.000000    1.000000\n",
       "50%    57244.000000    2.000000\n",
       "75%    74303.000000    3.000000\n",
       "max    98416.000000    4.000000"
      ]
     },
     "execution_count": 8,
     "metadata": {},
     "output_type": "execute_result"
    }
   ],
   "source": [
    "df.toPandas().describe()"
   ]
  }
 ],
 "metadata": {
  "kernelspec": {
   "display_name": "Python 3",
   "language": "python",
   "name": "python3"
  },
  "language_info": {
   "codemirror_mode": {
    "name": "ipython",
    "version": 3
   },
   "file_extension": ".py",
   "mimetype": "text/x-python",
   "name": "python",
   "nbconvert_exporter": "python",
   "pygments_lexer": "ipython3",
   "version": "3.7.3"
  }
 },
 "nbformat": 4,
 "nbformat_minor": 2
}
