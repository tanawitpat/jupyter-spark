{
 "cells": [
  {
   "cell_type": "markdown",
   "metadata": {},
   "source": [
    "# SparkR Template"
   ]
  },
  {
   "cell_type": "markdown",
   "metadata": {},
   "source": [
    "Reference: https://rpubs.com/wendyu/sparkr"
   ]
  },
  {
   "cell_type": "code",
   "execution_count": 1,
   "metadata": {},
   "outputs": [
    {
     "name": "stderr",
     "output_type": "stream",
     "text": [
      "\n",
      "Attaching package: ‘SparkR’\n",
      "\n",
      "The following objects are masked from ‘package:stats’:\n",
      "\n",
      "    cov, filter, lag, na.omit, predict, sd, var, window\n",
      "\n",
      "The following objects are masked from ‘package:base’:\n",
      "\n",
      "    as.data.frame, colnames, colnames<-, drop, endsWith, intersect,\n",
      "    rank, rbind, sample, startsWith, subset, summary, transform, union\n",
      "\n",
      "\n",
      "Attaching package: ‘magrittr’\n",
      "\n",
      "The following object is masked from ‘package:SparkR’:\n",
      "\n",
      "    not\n",
      "\n"
     ]
    }
   ],
   "source": [
    "library(SparkR)\n",
    "library(magrittr)"
   ]
  },
  {
   "cell_type": "code",
   "execution_count": 2,
   "metadata": {},
   "outputs": [
    {
     "name": "stderr",
     "output_type": "stream",
     "text": [
      "Warning message:\n",
      "“'sparkR.init' is deprecated.\n",
      "Use 'sparkR.session' instead.\n",
      "See help(\"Deprecated\")”"
     ]
    },
    {
     "name": "stdout",
     "output_type": "stream",
     "text": [
      "Launching java with spark-submit command /usr/local/spark/bin/spark-submit   --driver-memory \"1g\" sparkr-shell /tmp/RtmpGbOX3j/backend_port48f778e77fa \n"
     ]
    }
   ],
   "source": [
    "sc <- sparkR.init(master = \"local\",sparkEnvir = list(spark.driver.memory=\"1g\"))"
   ]
  },
  {
   "cell_type": "code",
   "execution_count": 3,
   "metadata": {},
   "outputs": [],
   "source": [
    "sqlContext <- sparkR.session(sc)"
   ]
  },
  {
   "cell_type": "markdown",
   "metadata": {},
   "source": [
    "## Dataframe Operations"
   ]
  },
  {
   "cell_type": "markdown",
   "metadata": {},
   "source": [
    "### 1. Create DataFrame"
   ]
  },
  {
   "cell_type": "code",
   "execution_count": 4,
   "metadata": {},
   "outputs": [
    {
     "name": "stderr",
     "output_type": "stream",
     "text": [
      "Warning message in FUN(X[[i]], ...):\n",
      "“Use Sepal_Length instead of Sepal.Length  as column name”Warning message in FUN(X[[i]], ...):\n",
      "“Use Sepal_Width instead of Sepal.Width  as column name”Warning message in FUN(X[[i]], ...):\n",
      "“Use Petal_Length instead of Petal.Length  as column name”Warning message in FUN(X[[i]], ...):\n",
      "“Use Petal_Width instead of Petal.Width  as column name”"
     ]
    },
    {
     "data": {
      "text/html": [
       "<table>\n",
       "<caption>A data.frame: 6 × 5</caption>\n",
       "<thead>\n",
       "\t<tr><th scope=col>Sepal_Length</th><th scope=col>Sepal_Width</th><th scope=col>Petal_Length</th><th scope=col>Petal_Width</th><th scope=col>Species</th></tr>\n",
       "\t<tr><th scope=col>&lt;dbl&gt;</th><th scope=col>&lt;dbl&gt;</th><th scope=col>&lt;dbl&gt;</th><th scope=col>&lt;dbl&gt;</th><th scope=col>&lt;chr&gt;</th></tr>\n",
       "</thead>\n",
       "<tbody>\n",
       "\t<tr><td>5.1</td><td>3.5</td><td>1.4</td><td>0.2</td><td>setosa</td></tr>\n",
       "\t<tr><td>4.9</td><td>3.0</td><td>1.4</td><td>0.2</td><td>setosa</td></tr>\n",
       "\t<tr><td>4.7</td><td>3.2</td><td>1.3</td><td>0.2</td><td>setosa</td></tr>\n",
       "\t<tr><td>4.6</td><td>3.1</td><td>1.5</td><td>0.2</td><td>setosa</td></tr>\n",
       "\t<tr><td>5.0</td><td>3.6</td><td>1.4</td><td>0.2</td><td>setosa</td></tr>\n",
       "\t<tr><td>5.4</td><td>3.9</td><td>1.7</td><td>0.4</td><td>setosa</td></tr>\n",
       "</tbody>\n",
       "</table>\n"
      ],
      "text/latex": [
       "A data.frame: 6 × 5\n",
       "\\begin{tabular}{r|lllll}\n",
       " Sepal\\_Length & Sepal\\_Width & Petal\\_Length & Petal\\_Width & Species\\\\\n",
       " <dbl> & <dbl> & <dbl> & <dbl> & <chr>\\\\\n",
       "\\hline\n",
       "\t 5.1 & 3.5 & 1.4 & 0.2 & setosa\\\\\n",
       "\t 4.9 & 3.0 & 1.4 & 0.2 & setosa\\\\\n",
       "\t 4.7 & 3.2 & 1.3 & 0.2 & setosa\\\\\n",
       "\t 4.6 & 3.1 & 1.5 & 0.2 & setosa\\\\\n",
       "\t 5.0 & 3.6 & 1.4 & 0.2 & setosa\\\\\n",
       "\t 5.4 & 3.9 & 1.7 & 0.4 & setosa\\\\\n",
       "\\end{tabular}\n"
      ],
      "text/markdown": [
       "\n",
       "A data.frame: 6 × 5\n",
       "\n",
       "| Sepal_Length &lt;dbl&gt; | Sepal_Width &lt;dbl&gt; | Petal_Length &lt;dbl&gt; | Petal_Width &lt;dbl&gt; | Species &lt;chr&gt; |\n",
       "|---|---|---|---|---|\n",
       "| 5.1 | 3.5 | 1.4 | 0.2 | setosa |\n",
       "| 4.9 | 3.0 | 1.4 | 0.2 | setosa |\n",
       "| 4.7 | 3.2 | 1.3 | 0.2 | setosa |\n",
       "| 4.6 | 3.1 | 1.5 | 0.2 | setosa |\n",
       "| 5.0 | 3.6 | 1.4 | 0.2 | setosa |\n",
       "| 5.4 | 3.9 | 1.7 | 0.4 | setosa |\n",
       "\n"
      ],
      "text/plain": [
       "  Sepal_Length Sepal_Width Petal_Length Petal_Width Species\n",
       "1 5.1          3.5         1.4          0.2         setosa \n",
       "2 4.9          3.0         1.4          0.2         setosa \n",
       "3 4.7          3.2         1.3          0.2         setosa \n",
       "4 4.6          3.1         1.5          0.2         setosa \n",
       "5 5.0          3.6         1.4          0.2         setosa \n",
       "6 5.4          3.9         1.7          0.4         setosa "
      ]
     },
     "metadata": {},
     "output_type": "display_data"
    }
   ],
   "source": [
    "df <- createDataFrame(iris)\n",
    "head(df)"
   ]
  },
  {
   "cell_type": "markdown",
   "metadata": {},
   "source": [
    "### 2. Select and Filter "
   ]
  },
  {
   "cell_type": "code",
   "execution_count": 5,
   "metadata": {},
   "outputs": [
    {
     "data": {
      "text/html": [
       "<table>\n",
       "<caption>A data.frame: 6 × 2</caption>\n",
       "<thead>\n",
       "\t<tr><th scope=col>Sepal_Length</th><th scope=col>Species</th></tr>\n",
       "\t<tr><th scope=col>&lt;dbl&gt;</th><th scope=col>&lt;chr&gt;</th></tr>\n",
       "</thead>\n",
       "<tbody>\n",
       "\t<tr><td>5.1</td><td>setosa</td></tr>\n",
       "\t<tr><td>4.9</td><td>setosa</td></tr>\n",
       "\t<tr><td>4.7</td><td>setosa</td></tr>\n",
       "\t<tr><td>4.6</td><td>setosa</td></tr>\n",
       "\t<tr><td>5.0</td><td>setosa</td></tr>\n",
       "\t<tr><td>5.4</td><td>setosa</td></tr>\n",
       "</tbody>\n",
       "</table>\n"
      ],
      "text/latex": [
       "A data.frame: 6 × 2\n",
       "\\begin{tabular}{r|ll}\n",
       " Sepal\\_Length & Species\\\\\n",
       " <dbl> & <chr>\\\\\n",
       "\\hline\n",
       "\t 5.1 & setosa\\\\\n",
       "\t 4.9 & setosa\\\\\n",
       "\t 4.7 & setosa\\\\\n",
       "\t 4.6 & setosa\\\\\n",
       "\t 5.0 & setosa\\\\\n",
       "\t 5.4 & setosa\\\\\n",
       "\\end{tabular}\n"
      ],
      "text/markdown": [
       "\n",
       "A data.frame: 6 × 2\n",
       "\n",
       "| Sepal_Length &lt;dbl&gt; | Species &lt;chr&gt; |\n",
       "|---|---|\n",
       "| 5.1 | setosa |\n",
       "| 4.9 | setosa |\n",
       "| 4.7 | setosa |\n",
       "| 4.6 | setosa |\n",
       "| 5.0 | setosa |\n",
       "| 5.4 | setosa |\n",
       "\n"
      ],
      "text/plain": [
       "  Sepal_Length Species\n",
       "1 5.1          setosa \n",
       "2 4.9          setosa \n",
       "3 4.7          setosa \n",
       "4 4.6          setosa \n",
       "5 5.0          setosa \n",
       "6 5.4          setosa "
      ]
     },
     "metadata": {},
     "output_type": "display_data"
    }
   ],
   "source": [
    "head(select(df, df$Sepal_Length, df$Species )) "
   ]
  },
  {
   "cell_type": "code",
   "execution_count": 6,
   "metadata": {},
   "outputs": [
    {
     "data": {
      "text/html": [
       "<table>\n",
       "<caption>A data.frame: 6 × 5</caption>\n",
       "<thead>\n",
       "\t<tr><th scope=col>Sepal_Length</th><th scope=col>Sepal_Width</th><th scope=col>Petal_Length</th><th scope=col>Petal_Width</th><th scope=col>Species</th></tr>\n",
       "\t<tr><th scope=col>&lt;dbl&gt;</th><th scope=col>&lt;dbl&gt;</th><th scope=col>&lt;dbl&gt;</th><th scope=col>&lt;dbl&gt;</th><th scope=col>&lt;chr&gt;</th></tr>\n",
       "</thead>\n",
       "<tbody>\n",
       "\t<tr><td>5.8</td><td>4.0</td><td>1.2</td><td>0.2</td><td>setosa    </td></tr>\n",
       "\t<tr><td>5.7</td><td>4.4</td><td>1.5</td><td>0.4</td><td>setosa    </td></tr>\n",
       "\t<tr><td>5.7</td><td>3.8</td><td>1.7</td><td>0.3</td><td>setosa    </td></tr>\n",
       "\t<tr><td>7.0</td><td>3.2</td><td>4.7</td><td>1.4</td><td>versicolor</td></tr>\n",
       "\t<tr><td>6.4</td><td>3.2</td><td>4.5</td><td>1.5</td><td>versicolor</td></tr>\n",
       "\t<tr><td>6.9</td><td>3.1</td><td>4.9</td><td>1.5</td><td>versicolor</td></tr>\n",
       "</tbody>\n",
       "</table>\n"
      ],
      "text/latex": [
       "A data.frame: 6 × 5\n",
       "\\begin{tabular}{r|lllll}\n",
       " Sepal\\_Length & Sepal\\_Width & Petal\\_Length & Petal\\_Width & Species\\\\\n",
       " <dbl> & <dbl> & <dbl> & <dbl> & <chr>\\\\\n",
       "\\hline\n",
       "\t 5.8 & 4.0 & 1.2 & 0.2 & setosa    \\\\\n",
       "\t 5.7 & 4.4 & 1.5 & 0.4 & setosa    \\\\\n",
       "\t 5.7 & 3.8 & 1.7 & 0.3 & setosa    \\\\\n",
       "\t 7.0 & 3.2 & 4.7 & 1.4 & versicolor\\\\\n",
       "\t 6.4 & 3.2 & 4.5 & 1.5 & versicolor\\\\\n",
       "\t 6.9 & 3.1 & 4.9 & 1.5 & versicolor\\\\\n",
       "\\end{tabular}\n"
      ],
      "text/markdown": [
       "\n",
       "A data.frame: 6 × 5\n",
       "\n",
       "| Sepal_Length &lt;dbl&gt; | Sepal_Width &lt;dbl&gt; | Petal_Length &lt;dbl&gt; | Petal_Width &lt;dbl&gt; | Species &lt;chr&gt; |\n",
       "|---|---|---|---|---|\n",
       "| 5.8 | 4.0 | 1.2 | 0.2 | setosa     |\n",
       "| 5.7 | 4.4 | 1.5 | 0.4 | setosa     |\n",
       "| 5.7 | 3.8 | 1.7 | 0.3 | setosa     |\n",
       "| 7.0 | 3.2 | 4.7 | 1.4 | versicolor |\n",
       "| 6.4 | 3.2 | 4.5 | 1.5 | versicolor |\n",
       "| 6.9 | 3.1 | 4.9 | 1.5 | versicolor |\n",
       "\n"
      ],
      "text/plain": [
       "  Sepal_Length Sepal_Width Petal_Length Petal_Width Species   \n",
       "1 5.8          4.0         1.2          0.2         setosa    \n",
       "2 5.7          4.4         1.5          0.4         setosa    \n",
       "3 5.7          3.8         1.7          0.3         setosa    \n",
       "4 7.0          3.2         4.7          1.4         versicolor\n",
       "5 6.4          3.2         4.5          1.5         versicolor\n",
       "6 6.9          3.1         4.9          1.5         versicolor"
      ]
     },
     "metadata": {},
     "output_type": "display_data"
    }
   ],
   "source": [
    "head(filter(df, df$Sepal_Length >5.5))"
   ]
  },
  {
   "cell_type": "code",
   "execution_count": 7,
   "metadata": {},
   "outputs": [
    {
     "data": {
      "text/html": [
       "<table>\n",
       "<caption>A data.frame: 6 × 2</caption>\n",
       "<thead>\n",
       "\t<tr><th scope=col>Sepal_Length</th><th scope=col>Species</th></tr>\n",
       "\t<tr><th scope=col>&lt;dbl&gt;</th><th scope=col>&lt;chr&gt;</th></tr>\n",
       "</thead>\n",
       "<tbody>\n",
       "\t<tr><td>5.8</td><td>setosa    </td></tr>\n",
       "\t<tr><td>5.7</td><td>setosa    </td></tr>\n",
       "\t<tr><td>5.7</td><td>setosa    </td></tr>\n",
       "\t<tr><td>7.0</td><td>versicolor</td></tr>\n",
       "\t<tr><td>6.4</td><td>versicolor</td></tr>\n",
       "\t<tr><td>6.9</td><td>versicolor</td></tr>\n",
       "</tbody>\n",
       "</table>\n"
      ],
      "text/latex": [
       "A data.frame: 6 × 2\n",
       "\\begin{tabular}{r|ll}\n",
       " Sepal\\_Length & Species\\\\\n",
       " <dbl> & <chr>\\\\\n",
       "\\hline\n",
       "\t 5.8 & setosa    \\\\\n",
       "\t 5.7 & setosa    \\\\\n",
       "\t 5.7 & setosa    \\\\\n",
       "\t 7.0 & versicolor\\\\\n",
       "\t 6.4 & versicolor\\\\\n",
       "\t 6.9 & versicolor\\\\\n",
       "\\end{tabular}\n"
      ],
      "text/markdown": [
       "\n",
       "A data.frame: 6 × 2\n",
       "\n",
       "| Sepal_Length &lt;dbl&gt; | Species &lt;chr&gt; |\n",
       "|---|---|\n",
       "| 5.8 | setosa     |\n",
       "| 5.7 | setosa     |\n",
       "| 5.7 | setosa     |\n",
       "| 7.0 | versicolor |\n",
       "| 6.4 | versicolor |\n",
       "| 6.9 | versicolor |\n",
       "\n"
      ],
      "text/plain": [
       "  Sepal_Length Species   \n",
       "1 5.8          setosa    \n",
       "2 5.7          setosa    \n",
       "3 5.7          setosa    \n",
       "4 7.0          versicolor\n",
       "5 6.4          versicolor\n",
       "6 6.9          versicolor"
      ]
     },
     "metadata": {},
     "output_type": "display_data"
    }
   ],
   "source": [
    "head(select(filter(df, df$Sepal_Length >5.5), df$Sepal_Length, df$Species))"
   ]
  },
  {
   "cell_type": "markdown",
   "metadata": {},
   "source": [
    "### 3. Grouping and Aggregation "
   ]
  },
  {
   "cell_type": "code",
   "execution_count": 8,
   "metadata": {},
   "outputs": [
    {
     "data": {
      "text/html": [
       "<table>\n",
       "<caption>A data.frame: 3 × 3</caption>\n",
       "<thead>\n",
       "\t<tr><th scope=col>Species</th><th scope=col>mean</th><th scope=col>count</th></tr>\n",
       "\t<tr><th scope=col>&lt;chr&gt;</th><th scope=col>&lt;dbl&gt;</th><th scope=col>&lt;dbl&gt;</th></tr>\n",
       "</thead>\n",
       "<tbody>\n",
       "\t<tr><td>virginica </td><td>6.588</td><td>50</td></tr>\n",
       "\t<tr><td>versicolor</td><td>5.936</td><td>50</td></tr>\n",
       "\t<tr><td>setosa    </td><td>5.006</td><td>50</td></tr>\n",
       "</tbody>\n",
       "</table>\n"
      ],
      "text/latex": [
       "A data.frame: 3 × 3\n",
       "\\begin{tabular}{r|lll}\n",
       " Species & mean & count\\\\\n",
       " <chr> & <dbl> & <dbl>\\\\\n",
       "\\hline\n",
       "\t virginica  & 6.588 & 50\\\\\n",
       "\t versicolor & 5.936 & 50\\\\\n",
       "\t setosa     & 5.006 & 50\\\\\n",
       "\\end{tabular}\n"
      ],
      "text/markdown": [
       "\n",
       "A data.frame: 3 × 3\n",
       "\n",
       "| Species &lt;chr&gt; | mean &lt;dbl&gt; | count &lt;dbl&gt; |\n",
       "|---|---|---|\n",
       "| virginica  | 6.588 | 50 |\n",
       "| versicolor | 5.936 | 50 |\n",
       "| setosa     | 5.006 | 50 |\n",
       "\n"
      ],
      "text/plain": [
       "  Species    mean  count\n",
       "1 virginica  6.588 50   \n",
       "2 versicolor 5.936 50   \n",
       "3 setosa     5.006 50   "
      ]
     },
     "metadata": {},
     "output_type": "display_data"
    }
   ],
   "source": [
    "df2<-summarize(groupBy(df, df$Species), mean=mean(df$Sepal_Length), count=n(df$Sepal_Length))\n",
    "head(df2)"
   ]
  },
  {
   "cell_type": "code",
   "execution_count": 9,
   "metadata": {},
   "outputs": [
    {
     "data": {
      "text/html": [
       "<table>\n",
       "<caption>A data.frame: 3 × 3</caption>\n",
       "<thead>\n",
       "\t<tr><th scope=col>Species</th><th scope=col>mean</th><th scope=col>count</th></tr>\n",
       "\t<tr><th scope=col>&lt;chr&gt;</th><th scope=col>&lt;dbl&gt;</th><th scope=col>&lt;dbl&gt;</th></tr>\n",
       "</thead>\n",
       "<tbody>\n",
       "\t<tr><td>virginica </td><td>6.588</td><td>50</td></tr>\n",
       "\t<tr><td>versicolor</td><td>5.936</td><td>50</td></tr>\n",
       "\t<tr><td>setosa    </td><td>5.006</td><td>50</td></tr>\n",
       "</tbody>\n",
       "</table>\n"
      ],
      "text/latex": [
       "A data.frame: 3 × 3\n",
       "\\begin{tabular}{r|lll}\n",
       " Species & mean & count\\\\\n",
       " <chr> & <dbl> & <dbl>\\\\\n",
       "\\hline\n",
       "\t virginica  & 6.588 & 50\\\\\n",
       "\t versicolor & 5.936 & 50\\\\\n",
       "\t setosa     & 5.006 & 50\\\\\n",
       "\\end{tabular}\n"
      ],
      "text/markdown": [
       "\n",
       "A data.frame: 3 × 3\n",
       "\n",
       "| Species &lt;chr&gt; | mean &lt;dbl&gt; | count &lt;dbl&gt; |\n",
       "|---|---|---|\n",
       "| virginica  | 6.588 | 50 |\n",
       "| versicolor | 5.936 | 50 |\n",
       "| setosa     | 5.006 | 50 |\n",
       "\n"
      ],
      "text/plain": [
       "  Species    mean  count\n",
       "1 virginica  6.588 50   \n",
       "2 versicolor 5.936 50   \n",
       "3 setosa     5.006 50   "
      ]
     },
     "metadata": {},
     "output_type": "display_data"
    }
   ],
   "source": [
    "head(arrange(df2, desc(df2$mean)))"
   ]
  },
  {
   "cell_type": "markdown",
   "metadata": {},
   "source": [
    "### 4. Combine queries with Marittr "
   ]
  },
  {
   "cell_type": "code",
   "execution_count": 10,
   "metadata": {},
   "outputs": [
    {
     "data": {
      "text/html": [
       "<table>\n",
       "<caption>A data.frame: 3 × 2</caption>\n",
       "<thead>\n",
       "\t<tr><th scope=col>Species</th><th scope=col>mean</th></tr>\n",
       "\t<tr><th scope=col>&lt;chr&gt;</th><th scope=col>&lt;dbl&gt;</th></tr>\n",
       "</thead>\n",
       "<tbody>\n",
       "\t<tr><td>virginica </td><td>6.622449</td></tr>\n",
       "\t<tr><td>versicolor</td><td>6.120513</td></tr>\n",
       "\t<tr><td>setosa    </td><td>5.733333</td></tr>\n",
       "</tbody>\n",
       "</table>\n"
      ],
      "text/latex": [
       "A data.frame: 3 × 2\n",
       "\\begin{tabular}{r|ll}\n",
       " Species & mean\\\\\n",
       " <chr> & <dbl>\\\\\n",
       "\\hline\n",
       "\t virginica  & 6.622449\\\\\n",
       "\t versicolor & 6.120513\\\\\n",
       "\t setosa     & 5.733333\\\\\n",
       "\\end{tabular}\n"
      ],
      "text/markdown": [
       "\n",
       "A data.frame: 3 × 2\n",
       "\n",
       "| Species &lt;chr&gt; | mean &lt;dbl&gt; |\n",
       "|---|---|\n",
       "| virginica  | 6.622449 |\n",
       "| versicolor | 6.120513 |\n",
       "| setosa     | 5.733333 |\n",
       "\n"
      ],
      "text/plain": [
       "  Species    mean    \n",
       "1 virginica  6.622449\n",
       "2 versicolor 6.120513\n",
       "3 setosa     5.733333"
      ]
     },
     "metadata": {},
     "output_type": "display_data"
    }
   ],
   "source": [
    "finaldf<-filter(df, df$Sepal_Length >5.5) %>%\n",
    "  group_by(df$Species)%>%\n",
    "  summarize(mean=mean(df$Sepal_Length))\n",
    "arrange(finaldf, desc(finaldf$mean)) %>% head"
   ]
  },
  {
   "cell_type": "markdown",
   "metadata": {},
   "source": [
    "### 5. SQL Queries "
   ]
  },
  {
   "cell_type": "code",
   "execution_count": 11,
   "metadata": {},
   "outputs": [
    {
     "name": "stderr",
     "output_type": "stream",
     "text": [
      "Warning message:\n",
      "“'registerTempTable' is deprecated.\n",
      "Use 'createOrReplaceTempView' instead.\n",
      "See help(\"Deprecated\")”"
     ]
    }
   ],
   "source": [
    "registerTempTable(df,\"df\")"
   ]
  },
  {
   "cell_type": "code",
   "execution_count": 12,
   "metadata": {},
   "outputs": [
    {
     "name": "stderr",
     "output_type": "stream",
     "text": [
      "Warning message:\n",
      "“'sql(sqlContext...)' is deprecated.\n",
      "Use 'sql(sqlQuery)' instead.\n",
      "See help(\"Deprecated\")”"
     ]
    }
   ],
   "source": [
    "dfSQL<-sql(sqlContext, \"SELECT * FROM df WHERE Sepal_Length > 5.5\")"
   ]
  },
  {
   "cell_type": "code",
   "execution_count": 13,
   "metadata": {},
   "outputs": [
    {
     "name": "stdout",
     "output_type": "stream",
     "text": [
      "   Sepal_Length Sepal_Width Petal_Length Petal_Width    Species\n",
      "1           5.8         4.0          1.2         0.2     setosa\n",
      "2           5.7         4.4          1.5         0.4     setosa\n",
      "3           5.7         3.8          1.7         0.3     setosa\n",
      "4           7.0         3.2          4.7         1.4 versicolor\n",
      "5           6.4         3.2          4.5         1.5 versicolor\n",
      "6           6.9         3.1          4.9         1.5 versicolor\n",
      "7           6.5         2.8          4.6         1.5 versicolor\n",
      "8           5.7         2.8          4.5         1.3 versicolor\n",
      "9           6.3         3.3          4.7         1.6 versicolor\n",
      "10          6.6         2.9          4.6         1.3 versicolor\n"
     ]
    }
   ],
   "source": [
    "dflocal<-collect(dfSQL)\n",
    "print(dflocal[1:10,])"
   ]
  },
  {
   "cell_type": "markdown",
   "metadata": {},
   "source": [
    "## Machine Learning - Linear Regression"
   ]
  },
  {
   "cell_type": "markdown",
   "metadata": {},
   "source": [
    "### 1. Preparing a train/test data set"
   ]
  },
  {
   "cell_type": "code",
   "execution_count": 14,
   "metadata": {},
   "outputs": [
    {
     "name": "stderr",
     "output_type": "stream",
     "text": [
      "Warning message:\n",
      "“'createDataFrame(sqlContext...)' is deprecated.\n",
      "Use 'createDataFrame(data, schema = NULL)' instead.\n",
      "See help(\"Deprecated\")”Warning message in FUN(X[[i]], ...):\n",
      "“Use Sepal_Length instead of Sepal.Length  as column name”Warning message in FUN(X[[i]], ...):\n",
      "“Use Sepal_Width instead of Sepal.Width  as column name”Warning message in FUN(X[[i]], ...):\n",
      "“Use Petal_Length instead of Petal.Length  as column name”Warning message in FUN(X[[i]], ...):\n",
      "“Use Petal_Width instead of Petal.Width  as column name”"
     ]
    }
   ],
   "source": [
    "#create an ID column\n",
    "iris$ID<-c(1:nrow(iris))\n",
    "df <- createDataFrame(sqlContext, iris)"
   ]
  },
  {
   "cell_type": "code",
   "execution_count": 15,
   "metadata": {},
   "outputs": [
    {
     "data": {
      "text/html": [
       "150"
      ],
      "text/latex": [
       "150"
      ],
      "text/markdown": [
       "150"
      ],
      "text/plain": [
       "[1] 150"
      ]
     },
     "metadata": {},
     "output_type": "display_data"
    }
   ],
   "source": [
    "#total number of observations\n",
    "nrow(df)"
   ]
  },
  {
   "cell_type": "code",
   "execution_count": 16,
   "metadata": {},
   "outputs": [
    {
     "data": {
      "text/html": [
       "30"
      ],
      "text/latex": [
       "30"
      ],
      "text/markdown": [
       "30"
      ],
      "text/plain": [
       "[1] 30"
      ]
     },
     "metadata": {},
     "output_type": "display_data"
    }
   ],
   "source": [
    "#20% data as test set\n",
    "df_test<-sample(df, FALSE, 0.2)\n",
    "nrow(df_test)  "
   ]
  },
  {
   "cell_type": "code",
   "execution_count": 17,
   "metadata": {},
   "outputs": [
    {
     "data": {
      "text/html": [
       "120"
      ],
      "text/latex": [
       "120"
      ],
      "text/markdown": [
       "120"
      ],
      "text/plain": [
       "[1] 120"
      ]
     },
     "metadata": {},
     "output_type": "display_data"
    }
   ],
   "source": [
    "#80% data as train set\n",
    "testID<-collect(select(df_test, \"ID\"))$ID\n",
    "df$istest<-df$ID %in% testID\n",
    "df_train<-subset(df, df$istest==FALSE)\n",
    "nrow(df_train)"
   ]
  },
  {
   "cell_type": "markdown",
   "metadata": {},
   "source": [
    "### 2. Train a linear model"
   ]
  },
  {
   "cell_type": "code",
   "execution_count": 18,
   "metadata": {},
   "outputs": [
    {
     "data": {
      "text/plain": [
       "\n",
       "Deviance Residuals: \n",
       "(Note: These are approximate quantiles with relative error <= 0.01)\n",
       "     Min        1Q    Median        3Q       Max  \n",
       "-0.63533  -0.23613  -0.00251   0.17668   0.69852  \n",
       "\n",
       "Coefficients:\n",
       "                    Estimate  Std. Error  t value    Pr(>|t|)\n",
       "(Intercept)          1.89992    0.313912   6.0524  1.8663e-08\n",
       "Sepal_Width          0.55253    0.095745   5.7709  6.9009e-08\n",
       "Petal_Length         0.87188    0.074605  11.6866  0.0000e+00\n",
       "Petal_Width         -0.27418    0.171935  -1.5947  1.1356e-01\n",
       "Species_versicolor  -0.83700    0.259295  -3.2280  1.6282e-03\n",
       "Species_virginica   -1.20329    0.362506  -3.3194  1.2119e-03\n",
       "\n",
       "(Dispersion parameter for gaussian family taken to be 0.09053587)\n",
       "\n",
       "    Null deviance: 82.975  on 119  degrees of freedom\n",
       "Residual deviance: 10.321  on 114  degrees of freedom\n",
       "AIC: 60.15\n",
       "\n",
       "Number of Fisher Scoring iterations: 1\n"
      ]
     },
     "metadata": {},
     "output_type": "display_data"
    }
   ],
   "source": [
    "#fit model\n",
    "model<-glm(Sepal_Length ~ . - ID - istest , data=df_train, family=\"gaussian\")\n",
    "#look at model summary\n",
    "summary(model)"
   ]
  },
  {
   "cell_type": "markdown",
   "metadata": {},
   "source": [
    "### 3. Model evaluation using the test set "
   ]
  },
  {
   "cell_type": "code",
   "execution_count": 19,
   "metadata": {},
   "outputs": [
    {
     "data": {
      "text/html": [
       "<table>\n",
       "<caption>A data.frame: 6 × 2</caption>\n",
       "<thead>\n",
       "\t<tr><th scope=col>Sepal_Length</th><th scope=col>prediction</th></tr>\n",
       "\t<tr><th scope=col>&lt;dbl&gt;</th><th scope=col>&lt;dbl&gt;</th></tr>\n",
       "</thead>\n",
       "<tbody>\n",
       "\t<tr><td>4.6</td><td>4.865760</td></tr>\n",
       "\t<tr><td>4.6</td><td>4.916914</td></tr>\n",
       "\t<tr><td>4.9</td><td>4.893178</td></tr>\n",
       "\t<tr><td>5.7</td><td>5.529217</td></tr>\n",
       "\t<tr><td>5.7</td><td>5.399492</td></tr>\n",
       "\t<tr><td>5.1</td><td>5.225115</td></tr>\n",
       "</tbody>\n",
       "</table>\n"
      ],
      "text/latex": [
       "A data.frame: 6 × 2\n",
       "\\begin{tabular}{r|ll}\n",
       " Sepal\\_Length & prediction\\\\\n",
       " <dbl> & <dbl>\\\\\n",
       "\\hline\n",
       "\t 4.6 & 4.865760\\\\\n",
       "\t 4.6 & 4.916914\\\\\n",
       "\t 4.9 & 4.893178\\\\\n",
       "\t 5.7 & 5.529217\\\\\n",
       "\t 5.7 & 5.399492\\\\\n",
       "\t 5.1 & 5.225115\\\\\n",
       "\\end{tabular}\n"
      ],
      "text/markdown": [
       "\n",
       "A data.frame: 6 × 2\n",
       "\n",
       "| Sepal_Length &lt;dbl&gt; | prediction &lt;dbl&gt; |\n",
       "|---|---|\n",
       "| 4.6 | 4.865760 |\n",
       "| 4.6 | 4.916914 |\n",
       "| 4.9 | 4.893178 |\n",
       "| 5.7 | 5.529217 |\n",
       "| 5.7 | 5.399492 |\n",
       "| 5.1 | 5.225115 |\n",
       "\n"
      ],
      "text/plain": [
       "  Sepal_Length prediction\n",
       "1 4.6          4.865760  \n",
       "2 4.6          4.916914  \n",
       "3 4.9          4.893178  \n",
       "4 5.7          5.529217  \n",
       "5 5.7          5.399492  \n",
       "6 5.1          5.225115  "
      ]
     },
     "metadata": {},
     "output_type": "display_data"
    }
   ],
   "source": [
    "#makde predictions \n",
    "prediction<-predict(model, newData=df_test)\n",
    "head(select(prediction, \"Sepal_Length\", \"prediction\"))"
   ]
  },
  {
   "cell_type": "code",
   "execution_count": 20,
   "metadata": {},
   "outputs": [
    {
     "data": {
      "text/html": [
       "5.87666666666667"
      ],
      "text/latex": [
       "5.87666666666667"
      ],
      "text/markdown": [
       "5.87666666666667"
      ],
      "text/plain": [
       "[1] 5.876667"
      ]
     },
     "metadata": {},
     "output_type": "display_data"
    }
   ],
   "source": [
    "#mean of Sepal_Length\n",
    "smean<-collect(agg(df_train, mean=mean(df_train$Sepal_Length)))$mean\n",
    "smean"
   ]
  },
  {
   "cell_type": "code",
   "execution_count": 21,
   "metadata": {},
   "outputs": [
    {
     "data": {
      "text/html": [
       "<table>\n",
       "<caption>A data.frame: 6 × 4</caption>\n",
       "<thead>\n",
       "\t<tr><th scope=col>Sepal_Length</th><th scope=col>prediction</th><th scope=col>s_res</th><th scope=col>s_tot</th></tr>\n",
       "\t<tr><th scope=col>&lt;dbl&gt;</th><th scope=col>&lt;dbl&gt;</th><th scope=col>&lt;dbl&gt;</th><th scope=col>&lt;dbl&gt;</th></tr>\n",
       "</thead>\n",
       "<tbody>\n",
       "\t<tr><td>4.6</td><td>4.865760</td><td>7.062827e-02</td><td>1.62987778</td></tr>\n",
       "\t<tr><td>4.6</td><td>4.916914</td><td>1.004344e-01</td><td>1.62987778</td></tr>\n",
       "\t<tr><td>4.9</td><td>4.893178</td><td>4.654589e-05</td><td>0.95387778</td></tr>\n",
       "\t<tr><td>5.7</td><td>5.529217</td><td>2.916669e-02</td><td>0.03121111</td></tr>\n",
       "\t<tr><td>5.7</td><td>5.399492</td><td>9.030532e-02</td><td>0.03121111</td></tr>\n",
       "\t<tr><td>5.1</td><td>5.225115</td><td>1.565383e-02</td><td>0.60321111</td></tr>\n",
       "</tbody>\n",
       "</table>\n"
      ],
      "text/latex": [
       "A data.frame: 6 × 4\n",
       "\\begin{tabular}{r|llll}\n",
       " Sepal\\_Length & prediction & s\\_res & s\\_tot\\\\\n",
       " <dbl> & <dbl> & <dbl> & <dbl>\\\\\n",
       "\\hline\n",
       "\t 4.6 & 4.865760 & 7.062827e-02 & 1.62987778\\\\\n",
       "\t 4.6 & 4.916914 & 1.004344e-01 & 1.62987778\\\\\n",
       "\t 4.9 & 4.893178 & 4.654589e-05 & 0.95387778\\\\\n",
       "\t 5.7 & 5.529217 & 2.916669e-02 & 0.03121111\\\\\n",
       "\t 5.7 & 5.399492 & 9.030532e-02 & 0.03121111\\\\\n",
       "\t 5.1 & 5.225115 & 1.565383e-02 & 0.60321111\\\\\n",
       "\\end{tabular}\n"
      ],
      "text/markdown": [
       "\n",
       "A data.frame: 6 × 4\n",
       "\n",
       "| Sepal_Length &lt;dbl&gt; | prediction &lt;dbl&gt; | s_res &lt;dbl&gt; | s_tot &lt;dbl&gt; |\n",
       "|---|---|---|---|\n",
       "| 4.6 | 4.865760 | 7.062827e-02 | 1.62987778 |\n",
       "| 4.6 | 4.916914 | 1.004344e-01 | 1.62987778 |\n",
       "| 4.9 | 4.893178 | 4.654589e-05 | 0.95387778 |\n",
       "| 5.7 | 5.529217 | 2.916669e-02 | 0.03121111 |\n",
       "| 5.7 | 5.399492 | 9.030532e-02 | 0.03121111 |\n",
       "| 5.1 | 5.225115 | 1.565383e-02 | 0.60321111 |\n",
       "\n"
      ],
      "text/plain": [
       "  Sepal_Length prediction s_res        s_tot     \n",
       "1 4.6          4.865760   7.062827e-02 1.62987778\n",
       "2 4.6          4.916914   1.004344e-01 1.62987778\n",
       "3 4.9          4.893178   4.654589e-05 0.95387778\n",
       "4 5.7          5.529217   2.916669e-02 0.03121111\n",
       "5 5.7          5.399492   9.030532e-02 0.03121111\n",
       "6 5.1          5.225115   1.565383e-02 0.60321111"
      ]
     },
     "metadata": {},
     "output_type": "display_data"
    }
   ],
   "source": [
    "#Squared residual and squared total\n",
    "prediction<-transform(\n",
    "  prediction,\n",
    "  s_res=(prediction$Sepal_Length - prediction$prediction)**2,\n",
    "  s_tot=(prediction$Sepal_Length - smean)**2)\n",
    "head(select(prediction, \"Sepal_Length\", \"prediction\", \"s_res\", \"s_tot\"))"
   ]
  },
  {
   "cell_type": "code",
   "execution_count": 22,
   "metadata": {},
   "outputs": [
    {
     "data": {
      "text/html": [
       "<table>\n",
       "<caption>A data.frame: 1 × 2</caption>\n",
       "<thead>\n",
       "\t<tr><th scope=col>ss_res</th><th scope=col>ss_tot</th></tr>\n",
       "\t<tr><th scope=col>&lt;dbl&gt;</th><th scope=col>&lt;dbl&gt;</th></tr>\n",
       "</thead>\n",
       "<tbody>\n",
       "\t<tr><td>3.506208</td><td>19.36033</td></tr>\n",
       "</tbody>\n",
       "</table>\n"
      ],
      "text/latex": [
       "A data.frame: 1 × 2\n",
       "\\begin{tabular}{r|ll}\n",
       " ss\\_res & ss\\_tot\\\\\n",
       " <dbl> & <dbl>\\\\\n",
       "\\hline\n",
       "\t 3.506208 & 19.36033\\\\\n",
       "\\end{tabular}\n"
      ],
      "text/markdown": [
       "\n",
       "A data.frame: 1 × 2\n",
       "\n",
       "| ss_res &lt;dbl&gt; | ss_tot &lt;dbl&gt; |\n",
       "|---|---|\n",
       "| 3.506208 | 19.36033 |\n",
       "\n"
      ],
      "text/plain": [
       "  ss_res   ss_tot  \n",
       "1 3.506208 19.36033"
      ]
     },
     "metadata": {},
     "output_type": "display_data"
    }
   ],
   "source": [
    "#Sum of squares\n",
    "res<-collect(agg(prediction, \n",
    "                 ss_res=sum(prediction$s_res),\n",
    "                 ss_tot=sum(prediction$s_tot)\n",
    "))\n",
    "res"
   ]
  },
  {
   "cell_type": "code",
   "execution_count": 23,
   "metadata": {},
   "outputs": [
    {
     "data": {
      "text/html": [
       "0.81889735771052"
      ],
      "text/latex": [
       "0.81889735771052"
      ],
      "text/markdown": [
       "0.81889735771052"
      ],
      "text/plain": [
       "[1] 0.8188974"
      ]
     },
     "metadata": {},
     "output_type": "display_data"
    }
   ],
   "source": [
    "#R-squared\n",
    "R2=1-(res$ss_res/res$ss_tot)\n",
    "R2"
   ]
  }
 ],
 "metadata": {
  "kernelspec": {
   "display_name": "R",
   "language": "R",
   "name": "ir"
  },
  "language_info": {
   "codemirror_mode": "r",
   "file_extension": ".r",
   "mimetype": "text/x-r-source",
   "name": "R",
   "pygments_lexer": "r",
   "version": "3.6.1"
  }
 },
 "nbformat": 4,
 "nbformat_minor": 2
}
